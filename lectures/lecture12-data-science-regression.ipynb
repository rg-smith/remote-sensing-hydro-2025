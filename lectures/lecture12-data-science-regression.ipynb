{
  "cells": [
    {
      "cell_type": "markdown",
      "metadata": {
        "id": "view-in-github",
        "colab_type": "text"
      },
      "source": [
        "<a href=\"https://colab.research.google.com/github/rg-smith/remote-sensing-hydro-2025/blob/main/lectures/lecture12-data-science-regression.ipynb\" target=\"_parent\"><img src=\"https://colab.research.google.com/assets/colab-badge.svg\" alt=\"Open In Colab\"/></a>"
      ]
    },
    {
      "cell_type": "markdown",
      "metadata": {
        "id": "IKYnFWV093kp"
      },
      "source": [
        "# Lecture 12 - Data Science Methods: Regression\n"
      ]
    },
    {
      "cell_type": "markdown",
      "metadata": {
        "id": "5T6YjlAOtlxp"
      },
      "source": [
        "First we need to install a couple packages. If this shows an error after running, try the next code block. If it runs without an error, then you should be ok."
      ]
    },
    {
      "cell_type": "code",
      "execution_count": null,
      "metadata": {
        "id": "JS_go2y2lnbj"
      },
      "outputs": [],
      "source": [
        "pip install geemap pycrs rasterio"
      ]
    },
    {
      "cell_type": "markdown",
      "metadata": {
        "id": "vCEs5Sfb9P1D"
      },
      "source": [
        "Now we will load necessary packages"
      ]
    },
    {
      "cell_type": "code",
      "execution_count": null,
      "metadata": {
        "id": "GQzx_BlImXbG"
      },
      "outputs": [],
      "source": [
        "import ee\n",
        "import numpy as np\n",
        "import pandas as pd\n",
        "import matplotlib.pyplot as plt\n",
        "import geopandas as gpd\n",
        "import requests\n",
        "from tqdm import tqdm\n",
        "import zipfile\n",
        "import os\n",
        "import pandas as pd\n",
        "from glob import glob\n",
        "import geemap\n",
        "import folium\n",
        "import branca.colormap as cm\n",
        "import rasterio\n",
        "import matplotlib"
      ]
    },
    {
      "cell_type": "code",
      "execution_count": null,
      "metadata": {
        "colab": {
          "base_uri": "https://localhost:8080/",
          "height": 17
        },
        "id": "saDQ6tmV6ZpN",
        "outputId": "dc104254-db13-49c3-c0be-aec2ba90253c"
      },
      "outputs": [
        {
          "output_type": "display_data",
          "data": {
            "text/plain": [
              "<IPython.core.display.HTML object>"
            ],
            "text/html": [
              "\n",
              "            <style>\n",
              "                .geemap-dark {\n",
              "                    --jp-widgets-color: white;\n",
              "                    --jp-widgets-label-color: white;\n",
              "                    --jp-ui-font-color1: white;\n",
              "                    --jp-layout-color2: #454545;\n",
              "                    background-color: #383838;\n",
              "                }\n",
              "\n",
              "                .geemap-dark .jupyter-button {\n",
              "                    --jp-layout-color3: #383838;\n",
              "                }\n",
              "\n",
              "                .geemap-colab {\n",
              "                    background-color: var(--colab-primary-surface-color, white);\n",
              "                }\n",
              "\n",
              "                .geemap-colab .jupyter-button {\n",
              "                    --jp-layout-color3: var(--colab-primary-surface-color, white);\n",
              "                }\n",
              "            </style>\n",
              "            "
            ]
          },
          "metadata": {}
        }
      ],
      "source": [
        "# you only need to run this once per session\n",
        "ee.Authenticate()\n",
        "ee.Initialize(project='replace with project name')"
      ]
    },
    {
      "cell_type": "markdown",
      "metadata": {
        "id": "pgvYXorcjksE"
      },
      "source": [
        "# Define custom functions for working with Google Earth Engine"
      ]
    },
    {
      "cell_type": "code",
      "execution_count": null,
      "metadata": {
        "id": "GZrWPT00muOp",
        "colab": {
          "base_uri": "https://localhost:8080/",
          "height": 17
        },
        "outputId": "b5605343-cbfc-42ad-ddba-bb4861405997"
      },
      "outputs": [
        {
          "output_type": "display_data",
          "data": {
            "text/plain": [
              "<IPython.core.display.HTML object>"
            ],
            "text/html": [
              "\n",
              "            <style>\n",
              "                .geemap-dark {\n",
              "                    --jp-widgets-color: white;\n",
              "                    --jp-widgets-label-color: white;\n",
              "                    --jp-ui-font-color1: white;\n",
              "                    --jp-layout-color2: #454545;\n",
              "                    background-color: #383838;\n",
              "                }\n",
              "\n",
              "                .geemap-dark .jupyter-button {\n",
              "                    --jp-layout-color3: #383838;\n",
              "                }\n",
              "\n",
              "                .geemap-colab {\n",
              "                    background-color: var(--colab-primary-surface-color, white);\n",
              "                }\n",
              "\n",
              "                .geemap-colab .jupyter-button {\n",
              "                    --jp-layout-color3: var(--colab-primary-surface-color, white);\n",
              "                }\n",
              "            </style>\n",
              "            "
            ]
          },
          "metadata": {}
        }
      ],
      "source": [
        "def add_ee_layer(self, ee_object, name):\n",
        "    try:\n",
        "        # display ee.Image()\n",
        "        if isinstance(ee_object, ee.image.Image):\n",
        "            range = ee.Image(ee_object).reduceRegion(ee.Reducer.percentile([1, 99]),scale=10000)\n",
        "            vals = range.getInfo()\n",
        "            min=list(vals.items())[0][1]\n",
        "            max=list(vals.items())[1][1]\n",
        "            vis = {'min': min, 'max': max, 'palette': ['0000FF', 'FFFFFF','FF0000']}\n",
        "\n",
        "            map_id_dict = ee.Image(ee_object).getMapId(vis)\n",
        "            folium.raster_layers.TileLayer(\n",
        "            tiles = map_id_dict['tile_fetcher'].url_format,\n",
        "            attr = 'Google Earth Engine',\n",
        "            name = name,\n",
        "            overlay = True,\n",
        "            control = True\n",
        "            ).add_to(self)\n",
        "            colormap = cm.LinearColormap(vmin=min,vmax=max,colors=['blue', 'white','red']).to_step(n=10)\n",
        "            colormap.caption=name\n",
        "            self.add_child(colormap)\n",
        "        # display ee.ImageCollection()\n",
        "        elif isinstance(ee_object, ee.imagecollection.ImageCollection):\n",
        "            ee_object_new = ee_object.mosaic()\n",
        "            map_id_dict = ee.Image(ee_object_new).getMapId(vis_params)\n",
        "            folium.raster_layers.TileLayer(\n",
        "            tiles = map_id_dict['tile_fetcher'].url_format,\n",
        "            attr = 'Google Earth Engine',\n",
        "            name = name,\n",
        "            overlay = True,\n",
        "            control = True\n",
        "            ).add_to(self)\n",
        "        # display ee.Geometry()\n",
        "        elif isinstance(ee_object, ee.geometry.Geometry):\n",
        "            folium.GeoJson(\n",
        "            data = ee_object.getInfo(),\n",
        "            name = name,\n",
        "            overlay = True,\n",
        "            control = True\n",
        "        ).add_to(self)\n",
        "        # display ee.FeatureCollection()\n",
        "        elif isinstance(ee_object, ee.featurecollection.FeatureCollection):\n",
        "            ee_object_new = ee.Image().paint(ee_object, 0, 2)\n",
        "            map_id_dict = ee.Image(ee_object_new).getMapId(vis_params)\n",
        "            folium.raster_layers.TileLayer(\n",
        "            tiles = map_id_dict['tile_fetcher'].url_format,\n",
        "            attr = 'Google Earth Engine',\n",
        "            name = name,\n",
        "            overlay = True,\n",
        "            control = True\n",
        "        ).add_to(self)\n",
        "\n",
        "    except Exception as e:\n",
        "        print(\"Could not display {}\".format(name))\n",
        "        print(e)\n",
        "\n",
        "# Add EE drawing method to folium (not a function)\n",
        "folium.Map.add_ee_layer = add_ee_layer\n",
        "\n",
        "def create_reduce_region_function(geometry,\n",
        "                                  reducer=ee.Reducer.mean(),\n",
        "                                  scale=1000,\n",
        "                                  crs='EPSG:4326',\n",
        "                                  bestEffort=True,\n",
        "                                  maxPixels=1e13,\n",
        "                                  tileScale=4):\n",
        "  \"\"\"Creates a region reduction function.\n",
        "\n",
        "  Creates a region reduction function intended to be used as the input function\n",
        "  to ee.ImageCollection.map() for reducing pixels intersecting a provided region\n",
        "  to a statistic for each image in a collection. See ee.Image.reduceRegion()\n",
        "  documentation for more details.\n",
        "\n",
        "  Args:\n",
        "    geometry:\n",
        "      An ee.Geometry that defines the region over which to reduce data.\n",
        "    reducer:\n",
        "      Optional; An ee.Reducer that defines the reduction method.\n",
        "    scale:\n",
        "      Optional; A number that defines the nominal scale in meters of the\n",
        "      projection to work in.\n",
        "    crs:\n",
        "      Optional; An ee.Projection or EPSG string ('EPSG:5070') that defines\n",
        "      the projection to work in.\n",
        "    bestEffort:\n",
        "      Optional; A Boolean indicator for whether to use a larger scale if the\n",
        "      geometry contains too many pixels at the given scale for the operation\n",
        "      to succeed.\n",
        "    maxPixels:\n",
        "      Optional; A number specifying the maximum number of pixels to reduce.\n",
        "    tileScale:\n",
        "      Optional; A number representing the scaling factor used to reduce\n",
        "      aggregation tile size; using a larger tileScale (e.g. 2 or 4) may enable\n",
        "      computations that run out of memory with the default.\n",
        "\n",
        "  Returns:\n",
        "    A function that accepts an ee.Image and reduces it by region, according to\n",
        "    the provided arguments.\n",
        "  \"\"\"\n",
        "\n",
        "  def reduce_region_function(img):\n",
        "    \"\"\"Applies the ee.Image.reduceRegion() method.\n",
        "\n",
        "    Args:\n",
        "      img:\n",
        "        An ee.Image to reduce to a statistic by region.\n",
        "\n",
        "    Returns:\n",
        "      An ee.Feature that contains properties representing the image region\n",
        "      reduction results per band and the image timestamp formatted as\n",
        "      milliseconds from Unix epoch (included to enable time series plotting).\n",
        "    \"\"\"\n",
        "\n",
        "    stat = img.reduceRegion(\n",
        "        reducer=reducer,\n",
        "        geometry=geometry,\n",
        "        scale=scale,\n",
        "        crs=crs,\n",
        "        bestEffort=bestEffort,\n",
        "        maxPixels=maxPixels,\n",
        "        tileScale=tileScale)\n",
        "\n",
        "    return ee.Feature(geometry, stat).set({'millis': img.date().millis()})\n",
        "  return reduce_region_function\n",
        "\n",
        "def gee_zonal_mean_img_coll(imageCollection,geometry,scale=1000):\n",
        "    reduce_iC = create_reduce_region_function(geometry = geometry, scale=scale)\n",
        "    stat_fc = ee.FeatureCollection(imageCollection.map(reduce_iC)).filter(ee.Filter.notNull(imageCollection.first().bandNames()))\n",
        "    fc_dict = fc_to_dict(stat_fc).getInfo()\n",
        "\n",
        "    df = pd.DataFrame(fc_dict)\n",
        "    df['date'] = pd.to_datetime(df['millis'],unit='ms')\n",
        "    return(df)\n",
        "\n",
        "def gee_zonal_mean(date1,date2,geometry,collection_name,band_name,scale=1000):\n",
        "     imcol = ee.ImageCollection(collection_name).select(band_name).filterDate(date1,date2)\n",
        "     df = gee_zonal_mean_img_coll(imcol,geometry,scale=scale)\n",
        "     return(df)\n",
        "\n",
        "\n",
        "# Define a function to transfer feature properties to a dictionary.\n",
        "def fc_to_dict(fc):\n",
        "  prop_names = fc.first().propertyNames()\n",
        "  prop_lists = fc.reduceColumns(\n",
        "      reducer=ee.Reducer.toList().repeat(prop_names.size()),\n",
        "      selectors=prop_names).get('list')\n",
        "\n",
        "  return ee.Dictionary.fromLists(prop_names, prop_lists)\n",
        "\n",
        "def ee_imgcoll_to_df_point(imagecollection, lat,lon):\n",
        "    \"\"\"Transforms client-side ee.Image.getRegion array to pandas.DataFrame.\"\"\"\n",
        "    poi = ee.Geometry.Point(lon, lat)\n",
        "    arr = imagecollection.getRegion(poi,1000).getInfo()\n",
        "\n",
        "    list_of_bands = imagecollection.first().bandNames().getInfo()\n",
        "\n",
        "    df = pd.DataFrame(arr)\n",
        "\n",
        "    # Rearrange the header.\n",
        "    headers = df.iloc[0]\n",
        "    df = pd.DataFrame(df.values[1:], columns=headers)\n",
        "\n",
        "    # Remove rows without data inside.\n",
        "    df = df[['longitude', 'latitude', 'time', *list_of_bands]].dropna()\n",
        "\n",
        "    # Convert the data to numeric values.\n",
        "    for band in list_of_bands:\n",
        "        df[band] = pd.to_numeric(df[band], errors='coerce')\n",
        "\n",
        "    # Convert the time field into a datetime.\n",
        "    df['datetime'] = pd.to_datetime(df['time'], unit='ms')\n",
        "\n",
        "    # Keep the columns of interest.\n",
        "    df = df[['time','datetime',  *list_of_bands]]\n",
        "\n",
        "    return df\n",
        "\n",
        "# to get the link to download an earth engine image\n",
        "def getLink(image,fname,aoi,scale=1000):\n",
        "  link = image.getDownloadURL({\n",
        "    'scale': scale,\n",
        "    'crs': 'EPSG:4326',\n",
        "    'fileFormat': 'GeoTIFF',\n",
        "    'region': aoi,\n",
        "    'name': fname})\n",
        "  # print(link)\n",
        "  return(link)\n",
        "\n",
        "# create an earth engine geometry polygon\n",
        "def addGeometry(min_lon,max_lon,min_lat,max_lat):\n",
        "  geom = ee.Geometry.Polygon(\n",
        "      [[[min_lon, max_lat],\n",
        "        [min_lon, min_lat],\n",
        "        [max_lon, min_lat],\n",
        "        [max_lon, max_lat]]])\n",
        "  return(geom)\n",
        "\n",
        "def get_imgcollection(date1,date2,geometry,collection_name,band_name,function='mean'):\n",
        "  collection = ee.ImageCollection(collection_name)\n",
        "  if function=='mean':\n",
        "      img = collection.filterDate(date1,date2).select(band_name).mean().clip(geometry)\n",
        "  if function=='sum':\n",
        "      img = collection.filterDate(date1,date2).select(band_name).sum().clip(geometry)\n",
        " # range = img.reduceRegion(ee.Reducer.percentile([1, 99]),scale=10000)\n",
        " # vals = range.getInfo()\n",
        " # min=list(vals.items())[0][1]\n",
        " # max=list(vals.items())[1][1]\n",
        " # visParams = {'min': min, 'max': max, 'palette': ['0000FF', 'FFFFFF','FF0000']}\n",
        "  return(img)\n",
        "\n",
        "def download_img(img,geom,fname,scale=1000):\n",
        "    linkname = getLink(img,fname,geom,scale=scale)\n",
        "    response = requests.get(linkname, stream=True)\n",
        "    zipped = fname+'.zip'\n",
        "    with open(zipped, \"wb\") as handle:\n",
        "        for data in tqdm(response.iter_content()):\n",
        "            handle.write(data)\n",
        "\n",
        "    with zipfile.ZipFile(zipped, 'r') as zip_ref:\n",
        "        zip_ref.extractall('')\n",
        "    os.remove(zipped)\n",
        "\n",
        "\n",
        "def aggregate_by_water_year(df,date_col,agg_column,agg_fun='sum'):\n",
        "    df['water_year'] = df[date_col].dt.year.where(df[date_col].dt.month < 10, df[date_col].dt.year + 1)\n",
        "    df_agg = df.groupby('water_year').agg({agg_column:[agg_fun]})\n",
        "    return(df_agg)\n",
        "\n",
        "def download_imgcollection(collection_name,band_name,date1,date2,geometry,dirname,max_num=100,scale=1000):\n",
        "  count=0\n",
        "  collection = ee.ImageCollection(collection_name).select(band_name).filterDate(date1,date2)\n",
        "  list = collection.filterBounds(geometry).toList(collection.size())\n",
        "\n",
        "  max_num = min(collection.size().getInfo(),max_num)\n",
        "  print(collection.size().getInfo())\n",
        "  dates = []\n",
        "  print('Creating directory '+dirname)\n",
        "  try:\n",
        "    os.mkdir(dirname)\n",
        "    print(f\"Directory '{dirname}' created successfully.\")\n",
        "  except FileExistsError:\n",
        "      print(f\"Directory '{dirname}' already exists.\")\n",
        "\n",
        "  for i in range(max_num):\n",
        "    img = ee.Image(list.get(i)).clip(geometry)\n",
        "\n",
        "    date_millis = img.get('system:time_start')\n",
        "    date = ee.Date(date_millis)\n",
        "\n",
        "    date_string = date.format('YYYY-MM-dd')\n",
        "    try:\n",
        "      dates.append(date_string.getInfo())\n",
        "      print('downloading image number '+str(count))\n",
        "      download_img(img,geom,dirname+'/'+f\"{i:03d}\",scale=scale)\n",
        "      count+=1\n",
        "    except Exception as e:\n",
        "      continue\n",
        "  dates = pd.DataFrame(dates,columns=['date'])\n",
        "  dates.to_csv(dirname+'/dates.csv')\n",
        "\n",
        "def load_imgcollection(dirname):\n",
        "  files = sorted(glob(dirname+'/*.tif'))\n",
        "  dates = pd.read_csv(dirname+'/dates.csv',parse_dates=['date'])\n",
        "  nbands = int(len(files)/dates.shape[0])\n",
        "  print('nbands: '+str(nbands))\n",
        "\n",
        "  if nbands>1:\n",
        "    bands = []\n",
        "    for i in range(nbands):\n",
        "      bands.append(files[i].split('.')[-2])\n",
        "    array_full = []\n",
        "    for b in range(nbands):\n",
        "      band_files = sorted(glob(dirname+'/*'+bands[b]+'*.tif'))\n",
        "      for i in range(len(band_files)):\n",
        "        if i==0:\n",
        "          img = rasterio.open(band_files[i])\n",
        "          data = img.read(1)\n",
        "          array = np.zeros((dates.shape[0],img.shape[0],img.shape[1]))\n",
        "          array[i,:,:] = data\n",
        "        else:\n",
        "          img = rasterio.open(band_files[i])\n",
        "          data = img.read(1)\n",
        "          array[i,:,:] = data\n",
        "      array_full.append(array)\n",
        "    array = array_full\n",
        "  else:\n",
        "    for i in range(len(files)):\n",
        "      if i==0:\n",
        "        img = rasterio.open(files[i])\n",
        "        data = img.read(1)\n",
        "        array = np.zeros((dates.shape[0],img.shape[0],img.shape[1]))\n",
        "        array[i,:,:] = data\n",
        "      else:\n",
        "        img = rasterio.open(files[i])\n",
        "        data = img.read(1)\n",
        "        array[i,:,:] = data\n",
        "  return(array,dates)\n",
        "\n",
        "def plot_imgcollection(array,dates):\n",
        "  nrows = int(np.sqrt(dates.shape[0]))\n",
        "  ncols = int(np.ceil(dates.shape[0]/nrows))\n",
        "  print('nrows: '+str(nrows)+', ncols: '+str(ncols))\n",
        "\n",
        "  fig,ax=plt.subplots(nrows=nrows,ncols=ncols,figsize=(15,15))\n",
        "\n",
        "  for kk in range(dates.shape[0]):\n",
        "    row = int(kk/ncols)\n",
        "    col = kk-ncols*row\n",
        "    im = ax[row,col].imshow(np.squeeze(array[kk,:,:]))\n",
        "    ax[row,col].set_title(dates.iloc[kk,1])\n",
        "    fig.colorbar(im,ax=ax[row,col])"
      ]
    },
    {
      "cell_type": "markdown",
      "metadata": {
        "id": "7NTgB99p9pFf"
      },
      "source": [
        "# Download and plot ET data"
      ]
    },
    {
      "cell_type": "code",
      "execution_count": null,
      "metadata": {
        "id": "xBwgdYMO92Wp",
        "colab": {
          "base_uri": "https://localhost:8080/",
          "height": 17
        },
        "outputId": "75e03963-a59c-4731-a3c8-ac3a7e2eda3f"
      },
      "outputs": [
        {
          "output_type": "display_data",
          "data": {
            "text/plain": [
              "<IPython.core.display.HTML object>"
            ],
            "text/html": [
              "\n",
              "            <style>\n",
              "                .geemap-dark {\n",
              "                    --jp-widgets-color: white;\n",
              "                    --jp-widgets-label-color: white;\n",
              "                    --jp-ui-font-color1: white;\n",
              "                    --jp-layout-color2: #454545;\n",
              "                    background-color: #383838;\n",
              "                }\n",
              "\n",
              "                .geemap-dark .jupyter-button {\n",
              "                    --jp-layout-color3: #383838;\n",
              "                }\n",
              "\n",
              "                .geemap-colab {\n",
              "                    background-color: var(--colab-primary-surface-color, white);\n",
              "                }\n",
              "\n",
              "                .geemap-colab .jupyter-button {\n",
              "                    --jp-layout-color3: var(--colab-primary-surface-color, white);\n",
              "                }\n",
              "            </style>\n",
              "            "
            ]
          },
          "metadata": {}
        }
      ],
      "source": [
        "start='2020-04-01'\n",
        "end='2020-11-30'\n",
        "\n",
        "left, bottom, top, right = -104.9, 40.26,40.7,-104.3\n",
        "geom = addGeometry(left,right,bottom,top)\n"
      ]
    },
    {
      "cell_type": "code",
      "source": [
        "download_imgcollection('OpenET/ENSEMBLE/CONUS/GRIDMET/MONTHLY/v2_0','et_ensemble_mad',\n",
        "                       start,end,geom,'ET',max_num=100,scale=100)"
      ],
      "metadata": {
        "id": "2sDSJuoGuFA-"
      },
      "execution_count": null,
      "outputs": []
    },
    {
      "cell_type": "code",
      "source": [
        "# load and plot all ET images\n",
        "et_array,et_dates=load_imgcollection('ET')\n",
        "\n",
        "plot_imgcollection(et_array,et_dates)"
      ],
      "metadata": {
        "id": "i10kCialJzmJ"
      },
      "execution_count": null,
      "outputs": []
    },
    {
      "cell_type": "markdown",
      "source": [
        "# Download and plot Landsat data"
      ],
      "metadata": {
        "id": "m8oZMGG1gVM2"
      }
    },
    {
      "cell_type": "code",
      "source": [
        "download_imgcollection('LANDSAT/LC08/C02/T1_TOA',['B4','B5','B10','QA_PIXEL'],\n",
        "                       start,end,geom,'landsat',max_num=100,scale=100)"
      ],
      "metadata": {
        "id": "DSNpljYcgXiP"
      },
      "execution_count": null,
      "outputs": []
    },
    {
      "cell_type": "code",
      "source": [
        "# load and plot all landsat images\n",
        "l_array,l_dates=load_imgcollection('landsat')\n",
        "\n",
        "print(l_dates)\n",
        "\n",
        "plot_imgcollection(l_array[0],l_dates)"
      ],
      "metadata": {
        "id": "60TXhWy3uAfE"
      },
      "execution_count": null,
      "outputs": []
    },
    {
      "cell_type": "code",
      "source": [
        "# remove clouds from pixels, take monthly average for each band\n",
        "bands = ['B10','B4','B5']\n",
        "months = np.arange(4,12) # create array from 4 to 11 of all months\n",
        "\n",
        "l_dates['month'] = l_dates['date'].dt.month\n",
        "input_data = []\n",
        "\n",
        "for b in range(len(bands)):\n",
        "  monthly_array = np.zeros((len(months),l_array[0].shape[1],l_array[0].shape[2]))\n",
        "  for m, month in enumerate(months):\n",
        "    filt_index = np.where(l_dates['month']==month)[0]\n",
        "    band_data = l_array[b][filt_index,:,:]\n",
        "    cloud_data = l_array[3][filt_index,:,:]!=21824\n",
        "\n",
        "    band_data[cloud_data] = np.nan\n",
        "    monthly_mean = np.nanmean(band_data,axis=0)\n",
        "    monthly_array[m,:,:] = monthly_mean\n",
        "  input_data.append(monthly_array)"
      ],
      "metadata": {
        "colab": {
          "base_uri": "https://localhost:8080/",
          "height": 53
        },
        "id": "ZqI9CsIZ1kft",
        "outputId": "faf45d7f-03c7-4500-83cc-68331b3837b0"
      },
      "execution_count": null,
      "outputs": [
        {
          "output_type": "display_data",
          "data": {
            "text/plain": [
              "<IPython.core.display.HTML object>"
            ],
            "text/html": [
              "\n",
              "            <style>\n",
              "                .geemap-dark {\n",
              "                    --jp-widgets-color: white;\n",
              "                    --jp-widgets-label-color: white;\n",
              "                    --jp-ui-font-color1: white;\n",
              "                    --jp-layout-color2: #454545;\n",
              "                    background-color: #383838;\n",
              "                }\n",
              "\n",
              "                .geemap-dark .jupyter-button {\n",
              "                    --jp-layout-color3: #383838;\n",
              "                }\n",
              "\n",
              "                .geemap-colab {\n",
              "                    background-color: var(--colab-primary-surface-color, white);\n",
              "                }\n",
              "\n",
              "                .geemap-colab .jupyter-button {\n",
              "                    --jp-layout-color3: var(--colab-primary-surface-color, white);\n",
              "                }\n",
              "            </style>\n",
              "            "
            ]
          },
          "metadata": {}
        },
        {
          "output_type": "stream",
          "name": "stderr",
          "text": [
            "<ipython-input-28-cc2fe2095040>:16: RuntimeWarning: Mean of empty slice\n",
            "  monthly_mean = np.nanmean(band_data,axis=0)\n"
          ]
        }
      ]
    },
    {
      "cell_type": "markdown",
      "source": [
        "## Plot monthly landsat data"
      ],
      "metadata": {
        "id": "u3Ih42QmJoiA"
      }
    },
    {
      "cell_type": "code",
      "source": [
        "plot_imgcollection(input_data[1],et_dates) # choose 0, 1 or 2 to plot different landsat bands"
      ],
      "metadata": {
        "id": "_afTrMK-43kW"
      },
      "execution_count": null,
      "outputs": []
    },
    {
      "cell_type": "markdown",
      "source": [
        "#Run random forest regression"
      ],
      "metadata": {
        "id": "5I5D7CNpiqAl"
      }
    },
    {
      "cell_type": "code",
      "source": [
        "from sklearn.ensemble import RandomForestRegressor\n",
        "from sklearn.metrics import mean_squared_error\n",
        "from sklearn.metrics import r2_score"
      ],
      "metadata": {
        "id": "LV4Giu0DinaX",
        "colab": {
          "base_uri": "https://localhost:8080/",
          "height": 17
        },
        "outputId": "c4586e0e-badc-4900-d539-5098a0cfdff9"
      },
      "execution_count": null,
      "outputs": [
        {
          "output_type": "display_data",
          "data": {
            "text/plain": [
              "<IPython.core.display.HTML object>"
            ],
            "text/html": [
              "\n",
              "            <style>\n",
              "                .geemap-dark {\n",
              "                    --jp-widgets-color: white;\n",
              "                    --jp-widgets-label-color: white;\n",
              "                    --jp-ui-font-color1: white;\n",
              "                    --jp-layout-color2: #454545;\n",
              "                    background-color: #383838;\n",
              "                }\n",
              "\n",
              "                .geemap-dark .jupyter-button {\n",
              "                    --jp-layout-color3: #383838;\n",
              "                }\n",
              "\n",
              "                .geemap-colab {\n",
              "                    background-color: var(--colab-primary-surface-color, white);\n",
              "                }\n",
              "\n",
              "                .geemap-colab .jupyter-button {\n",
              "                    --jp-layout-color3: var(--colab-primary-surface-color, white);\n",
              "                }\n",
              "            </style>\n",
              "            "
            ]
          },
          "metadata": {}
        }
      ]
    },
    {
      "cell_type": "code",
      "source": [
        "# prep input and labeled data\n",
        "Y = et_array.flatten()\n",
        "\n",
        "X = np.zeros((len(Y),len(input_data)))\n",
        "\n",
        "for b in range(len(input_data)):\n",
        "  X[:,b] = input_data[b].flatten()\n",
        "\n",
        "# separate training and testing area\n",
        "train = np.ones(np.squeeze(et_array[0,:,:]).shape)\n",
        "train[0:240,0:300] = 0\n",
        "plt.figure();plt.imshow(train);cbar = plt.colorbar();\n",
        "plt.title('Training/testing data')\n",
        "cbar.set_label('1 is training, 0 is testing', fontsize=12)\n",
        "\n",
        "train = np.repeat(train[np.newaxis, :, :], et_array.shape[0], axis=0)\n",
        "\n",
        "train = (train==1).flatten()\n",
        "\n",
        "X_train = X[train,:]\n",
        "Y_train = Y[train]\n",
        "\n",
        "X_test = X[train==0,:]\n",
        "Y_test = Y[train==0]"
      ],
      "metadata": {
        "id": "vliksJpM9oTb"
      },
      "execution_count": null,
      "outputs": []
    },
    {
      "cell_type": "code",
      "source": [
        "# get total number of NA values for each row\n",
        "nansum = np.sum(np.isnan(X_train),axis=1)+np.sum(np.isnan(Y_train))\n",
        "\n",
        "# remove rows from X and Y that have nan values\n",
        "X_train = X_train[nansum==0,:]\n",
        "Y_train = Y_train[nansum==0]\n",
        "\n",
        "model = RandomForestRegressor(n_estimators=10, random_state=42)\n",
        "\n",
        "nansum_test = np.sum(np.isnan(X_test),axis=1)+np.sum(np.isnan(Y_test))\n",
        "X_test = X_test[nansum_test==0,:]\n",
        "Y_test = Y_test[nansum_test==0]\n",
        "\n",
        "# Train the model\n",
        "model.fit(X_train, Y_train)\n",
        "\n",
        "# Make predictions on the test set\n",
        "Y_pred = model.predict(X_test)"
      ],
      "metadata": {
        "colab": {
          "base_uri": "https://localhost:8080/",
          "height": 17
        },
        "id": "hjYJmqjt9sBf",
        "outputId": "00a44ebe-40cc-40ec-c8db-35c334a08c98"
      },
      "execution_count": null,
      "outputs": [
        {
          "output_type": "display_data",
          "data": {
            "text/plain": [
              "<IPython.core.display.HTML object>"
            ],
            "text/html": [
              "\n",
              "            <style>\n",
              "                .geemap-dark {\n",
              "                    --jp-widgets-color: white;\n",
              "                    --jp-widgets-label-color: white;\n",
              "                    --jp-ui-font-color1: white;\n",
              "                    --jp-layout-color2: #454545;\n",
              "                    background-color: #383838;\n",
              "                }\n",
              "\n",
              "                .geemap-dark .jupyter-button {\n",
              "                    --jp-layout-color3: #383838;\n",
              "                }\n",
              "\n",
              "                .geemap-colab {\n",
              "                    background-color: var(--colab-primary-surface-color, white);\n",
              "                }\n",
              "\n",
              "                .geemap-colab .jupyter-button {\n",
              "                    --jp-layout-color3: var(--colab-primary-surface-color, white);\n",
              "                }\n",
              "            </style>\n",
              "            "
            ]
          },
          "metadata": {}
        }
      ]
    },
    {
      "cell_type": "code",
      "source": [
        "# Evaluate the model\n",
        "mse = mean_squared_error(Y_test, Y_pred)\n",
        "print(f\"Mean Squared Error: {mse}\")\n",
        "r2 = r2_score(Y_test, Y_pred)\n",
        "print(f\"R-squared: {r2}\")\n",
        "\n",
        "plt.figure();\n",
        "plt.plot(Y_pred,Y_test,'o',alpha=0.01)\n",
        "plt.xlabel('Predicted ET')\n",
        "plt.ylabel('OpenET')"
      ],
      "metadata": {
        "id": "5RIv6aSlFCz1"
      },
      "execution_count": null,
      "outputs": []
    },
    {
      "cell_type": "markdown",
      "source": [
        "## Plot ET predicted from landsat data"
      ],
      "metadata": {
        "id": "qCLI9PRHHgJ3"
      }
    },
    {
      "cell_type": "code",
      "source": [
        "ET_pred = model.predict(X)\n",
        "\n",
        "ET_pred_reshape = np.reshape(ET_pred,(et_array.shape[0],et_array.shape[1],et_array.shape[2]))\n",
        "ET_pred_reshape[np.isnan(input_data[0])] = np.nan\n",
        "\n",
        "plot_imgcollection(ET_pred_reshape,et_dates)"
      ],
      "metadata": {
        "id": "ch2V9swfGHHN"
      },
      "execution_count": null,
      "outputs": []
    },
    {
      "cell_type": "markdown",
      "source": [
        "## Plot OpenET"
      ],
      "metadata": {
        "id": "ZScGC2aTHqbe"
      }
    },
    {
      "cell_type": "code",
      "source": [
        "plot_imgcollection(et_array,et_dates)"
      ],
      "metadata": {
        "id": "D5B2MiA0HuBg"
      },
      "execution_count": null,
      "outputs": []
    },
    {
      "cell_type": "markdown",
      "source": [
        "# Plot results using folium"
      ],
      "metadata": {
        "id": "PsObc69zi2sj"
      }
    },
    {
      "cell_type": "code",
      "source": [
        "my_map = folium.Map(location=[40.5, -105.7], zoom_start=9)\n",
        "\n",
        "tile = folium.TileLayer(\n",
        "        tiles = 'https://server.arcgisonline.com/ArcGIS/rest/services/World_Imagery/MapServer/tile/{z}/{y}/{x}',\n",
        "        attr = 'Esri',\n",
        "        name = 'Esri Satellite',\n",
        "        overlay = False,\n",
        "        control = True\n",
        "       ).add_to(my_map)\n",
        "\n",
        "my_map.add_ee_layer(geom,'geom')\n",
        "\n",
        "mean_openET = np.nanmean(et_array,axis=0)\n",
        "mean_predET = np.nanmean(ET_pred_reshape,axis=0)\n",
        "mean_predET[np.isnan(mean_predET)] = 0\n",
        "\n",
        "folium.raster_layers.ImageOverlay(\n",
        "        image=mean_openET,\n",
        "        bounds=[[bottom, left], [top, right]],\n",
        "        opacity=1,\n",
        "        colormap=cm.LinearColormap(['red', 'yellow', 'green'],vmin=np.nanmin(mean_openET),vmax=np.nanmax(mean_openET)),\n",
        "        name='Open ET'\n",
        "    ).add_to(my_map)\n",
        "\n",
        "folium.raster_layers.ImageOverlay(\n",
        "        image=mean_predET,\n",
        "        bounds=[[bottom, left], [top, right]],\n",
        "        opacity=1,\n",
        "        colormap=cm.LinearColormap(['red', 'yellow', 'green'],vmin=np.nanmin(mean_openET),vmax=np.nanmax(mean_openET)),\n",
        "        name='predicted ET'\n",
        "    ).add_to(my_map)\n",
        "\n",
        "my_map.add_child(folium.LayerControl())\n",
        "display(my_map)"
      ],
      "metadata": {
        "id": "upXZUL_8i1uR"
      },
      "execution_count": null,
      "outputs": []
    }
  ],
  "metadata": {
    "colab": {
      "provenance": [],
      "toc_visible": true,
      "authorship_tag": "ABX9TyNSz0w3mZp06sBYsevzzx6O",
      "include_colab_link": true
    },
    "kernelspec": {
      "display_name": "Python 3",
      "name": "python3"
    },
    "language_info": {
      "name": "python"
    }
  },
  "nbformat": 4,
  "nbformat_minor": 0
}